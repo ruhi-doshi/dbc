{
  "nbformat": 4,
  "nbformat_minor": 0,
  "metadata": {
    "colab": {
      "provenance": [],
      "authorship_tag": "ABX9TyNVk+T5S7QNOpYGORlpRxyk",
      "include_colab_link": true
    },
    "kernelspec": {
      "name": "python3",
      "display_name": "Python 3"
    },
    "language_info": {
      "name": "python"
    }
  },
  "cells": [
    {
      "cell_type": "markdown",
      "metadata": {
        "id": "view-in-github",
        "colab_type": "text"
      },
      "source": [
        "<a href=\"https://colab.research.google.com/github/ruhi-doshi/dbc/blob/ml/AIChatbot.ipynb\" target=\"_parent\"><img src=\"https://colab.research.google.com/assets/colab-badge.svg\" alt=\"Open In Colab\"/></a>"
      ]
    },
    {
      "cell_type": "code",
      "source": [
        "!pip install nltk"
      ],
      "metadata": {
        "colab": {
          "base_uri": "https://localhost:8080/"
        },
        "id": "Jq6F9MiP85yv",
        "outputId": "97b5838b-dd36-4f81-f42e-c8684528cd8f"
      },
      "execution_count": null,
      "outputs": [
        {
          "output_type": "stream",
          "name": "stdout",
          "text": [
            "Requirement already satisfied: nltk in /usr/local/lib/python3.10/dist-packages (3.8.1)\n",
            "Requirement already satisfied: click in /usr/local/lib/python3.10/dist-packages (from nltk) (8.1.7)\n",
            "Requirement already satisfied: joblib in /usr/local/lib/python3.10/dist-packages (from nltk) (1.4.2)\n",
            "Requirement already satisfied: regex>=2021.8.3 in /usr/local/lib/python3.10/dist-packages (from nltk) (2024.5.15)\n",
            "Requirement already satisfied: tqdm in /usr/local/lib/python3.10/dist-packages (from nltk) (4.66.4)\n"
          ]
        }
      ]
    },
    {
      "cell_type": "code",
      "execution_count": null,
      "metadata": {
        "colab": {
          "base_uri": "https://localhost:8080/"
        },
        "id": "DUsdHPEI5xoJ",
        "outputId": "c52f38e7-b4d5-4045-84b5-09d3e8593a23"
      },
      "outputs": [
        {
          "output_type": "stream",
          "name": "stderr",
          "text": [
            "[nltk_data] Downloading package punkt to /root/nltk_data...\n",
            "[nltk_data]   Package punkt is already up-to-date!\n",
            "[nltk_data] Downloading package wordnet to /root/nltk_data...\n",
            "[nltk_data]   Package wordnet is already up-to-date!\n"
          ]
        },
        {
          "output_type": "stream",
          "name": "stdout",
          "text": [
            "Hello! I'm ComplaintAssitant. How can I help you today?\n",
            "You: hi\n",
            "ChatGPT: Hi there! How can I assist you today!\n",
            "You: where can I check the status of my complaint\n",
            "ChatGPT: I’m here to help with your complaint. Could you describe the issue?\n",
            "You: bye\n",
            "ChatGPT: Farewell! If you need further assistance, feel free to reach out.\n",
            "BYE\n"
          ]
        }
      ],
      "source": [
        "import nltk\n",
        "from nltk.chat.util import Chat, reflections\n",
        "nltk.download('punkt')\n",
        "nltk.download('wordnet')\n",
        "patterns = patterns = [\n",
        "    (r'hi|hello|hey', ['Hi there! How can I assist you today!', 'Hello!', 'Hey!']),\n",
        "    (r'how are you?', ['I\\'m good, thank you!', 'I\\'m doing well, thanks for asking.']),\n",
        "    (r'what is your name\\?', ['I\\'m a chatbot created to help you. What\\'s your name?', 'You can call me ChatGPT.']),\n",
        "    (r'(.*) your name\\?', ['I\\'m a chatbot created to help you. What\\'s your name?', 'You can call me ChatGPT.']),\n",
        "    (r'tell me a joke', ['Why don\\'t scientists trust atoms? Because they make up everything!']),\n",
        "    (r'what can you do\\?', ['I can chat with you, tell jokes, and provide information on various topics.']),\n",
        "    (r'i\\'m feeling sad', ['I\\'m sorry to hear that. Do you want to talk about it?']),\n",
        "    (r'what\\'s the weather like\\?', ['I don\\'t have access to real-time data, but you can check a weather app for the latest updates.']),\n",
        "    (r'do you like movies\\?', ['I don\\'t watch movies, but I can help you find information about them.']),\n",
        "    (r'what\\'s your favorite color\\?', ['I don\\'t have preferences, but many people like blue.']),\n",
        "    (r'goodbye', ['Goodbye! Have a great day!']),\n",
        "    (r'(.*) complaint(.*)', ['Please provide details about your complaint so we can assist you.', 'I’m here to help with your complaint. Could you describe the issue?']),\n",
        "    (r'(.*) issue(.*)', ['Can you please provide more details about the issue you are facing?', 'We are sorry to hear about the issue. Please describe it so we can resolve it.']),\n",
        "    (r'(.*) problem(.*)', ['Please let us know more about the problem you are experiencing.', 'We are here to help with your problem. Could you provide more details?']),\n",
        "    (r'(.*) feedback(.*)', ['We appreciate your feedback. Could you please provide more details about your feedback?', 'Your feedback is valuable to us. Please elaborate on your experience.']),\n",
        "    (r'(.*) not working(.*)', ['We’re sorry to hear that it’s not working. Please describe the problem in detail so we can help.', 'Please provide more details about what’s not working.']),\n",
        "    (r'how can I make a complaint\\?', ['You can log a complaint by describing the issue in detail and submitting it through our complaint form.', 'To make a complaint, please provide the details of your issue, and we will assist you.']),\n",
        "    (r'what is the complaint process\\?', ['The complaint process involves submitting your complaint details, after which our team will review and get back to you with a resolution.', 'Once you submit your complaint, our team will investigate and respond accordingly.']),\n",
        "    (r'how long does it take to resolve a complaint\\?', ['Resolution time can vary depending on the issue. We aim to resolve complaints as quickly as possible, usually within a few business days.', 'The time to resolve a complaint depends on the complexity of the issue. We strive to address all complaints promptly.']),\n",
        "    (r'where can I check the status of my complaint\\?', ['You can check the status of your complaint by logging into your account and viewing your complaint history.', 'To check the status, please visit our complaint tracking page and enter your complaint reference number.']),\n",
        "    (r'how can I contact customer support\\?', ['You can contact customer support via email at support@example.com or by calling our hotline at (123) 456-7890.', 'For customer support, please reach out to us at support@example.com or call (123) 456-7890.']),\n",
        "    (r'hi|hello|hey', ['Hello! How can I assist you today?', 'Hi there! What can I help you with?']),\n",
        "    (r'goodbye|bye', ['Goodbye! Have a great day!', 'Farewell! If you need further assistance, feel free to reach out.']),\n",
        "    (r'thank you|thanks', ['You’re welcome! If you have any other questions, feel free to ask.', 'Glad I could help! Let me know if there’s anything else you need.']),\n",
        "]\n",
        "\n",
        "chatbot = Chat(patterns, reflections)\n",
        "print(\"Hello! I'm ComplaintAssitant. How can I help you today?\")\n",
        "while True:\n",
        "    user_input = input(\"You: \")\n",
        "    response = chatbot.respond(user_input)\n",
        "    print(\"ChatGPT:\", response)\n",
        "    if(response == \"Goodbye! Have a great day!\" or response== \"Farewell! If you need further assistance, feel free to reach out.\" ):\n",
        "        #print(\"BYE\")\n",
        "        break\n",
        "    else:\n",
        "        continue"
      ]
    }
  ]
}